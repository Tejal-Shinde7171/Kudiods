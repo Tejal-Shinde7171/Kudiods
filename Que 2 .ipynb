{
 "cells": [
  {
   "cell_type": "code",
   "execution_count": 43,
   "id": "910acbd3",
   "metadata": {},
   "outputs": [
    {
     "name": "stdout",
     "output_type": "stream",
     "text": [
      "7\n",
      "['i', 'i', 'o', 'A', 'e', 'o', 'u']\n"
     ]
    }
   ],
   "source": [
    "def Check_Vow(string, vowels):\n",
    "    final = [each for each in string if each in vowels]\n",
    "    print(len(final))\n",
    "    print(final)\n",
    "     \n",
    "\n",
    "string = \"Hii How Are You\"\n",
    "vowels = \"AaEeIiOoUu\"\n",
    "Check_Vow(string, vowels);"
   ]
  },
  {
   "cell_type": "code",
   "execution_count": 42,
   "id": "76b5e63b",
   "metadata": {},
   "outputs": [
    {
     "name": "stdout",
     "output_type": "stream",
     "text": [
      "7\n",
      "['i', 'i', 'o', 'A', 'e', 'o', 'u']\n"
     ]
    }
   ],
   "source": [
    "def Check_consoulants(string, consoulants):\n",
    "    final = [each for each in string if each in consoulants]\n",
    "    print(len(final))\n",
    "    print(final)\n",
    "     \n",
    "\n",
    "string = \"Hii How Are You\"\n",
    "consoulants = \"AaEeIiOoUu\"\n",
    "Check_consoulants(string, consoulants);"
   ]
  },
  {
   "cell_type": "code",
   "execution_count": null,
   "id": "bb377d62",
   "metadata": {},
   "outputs": [],
   "source": []
  }
 ],
 "metadata": {
  "kernelspec": {
   "display_name": "Python 3 (ipykernel)",
   "language": "python",
   "name": "python3"
  },
  "language_info": {
   "codemirror_mode": {
    "name": "ipython",
    "version": 3
   },
   "file_extension": ".py",
   "mimetype": "text/x-python",
   "name": "python",
   "nbconvert_exporter": "python",
   "pygments_lexer": "ipython3",
   "version": "3.11.7"
  }
 },
 "nbformat": 4,
 "nbformat_minor": 5
}
