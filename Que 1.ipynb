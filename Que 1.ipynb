{
 "cells": [
  {
   "cell_type": "markdown",
   "id": "065786fa",
   "metadata": {},
   "source": [
    "#### WAP which will ask user to enter the marks in percentage and raise the custom exception \"Invalid Exception\" if user enters the percentage greater than 100% or less than 0%."
   ]
  },
  {
   "cell_type": "code",
   "execution_count": 19,
   "id": "24de6fe1",
   "metadata": {},
   "outputs": [
    {
     "name": "stdout",
     "output_type": "stream",
     "text": [
      "Enter the marks in percentage:90\n",
      "You got go marks\n"
     ]
    }
   ],
   "source": [
    "marks=int(input(\"Enter the marks in percentage:\"))\n",
    "try :\n",
    "    if marks>=90:\n",
    "        print(\"You got go marks\")\n",
    "    elif marks>100:\n",
    "            print(\"Invalid Marks Exception: Marks Must be a 0 to 100\")\n",
    "except:\n",
    "    if marks (-25):\n",
    "        print(\"Invalid Marks Exception: Marks Must be a 0 to 100\")"
   ]
  },
  {
   "cell_type": "code",
   "execution_count": 27,
   "id": "39e3cb5c",
   "metadata": {},
   "outputs": [
    {
     "name": "stdout",
     "output_type": "stream",
     "text": [
      "Enter the marks in percentage:101\n",
      "Invalid Marks Exception: Marks Must be a 0 to 100\n"
     ]
    }
   ],
   "source": [
    "marks=int(input(\"Enter the marks in percentage:\"))\n",
    "try :\n",
    "    if marks>=90:\n",
    "        print(\"You got go marks\")\n",
    "    elif marks>100:\n",
    "            print(\"Invalid Marks Exception: Marks Must be a 0 to 100\")\n",
    "except:\n",
    "    if marks (-25):\n",
    "        print(\"Invalid Marks Exception: Marks Must be a 0 to 100\")"
   ]
  },
  {
   "cell_type": "code",
   "execution_count": 29,
   "id": "19f71035",
   "metadata": {},
   "outputs": [
    {
     "name": "stdout",
     "output_type": "stream",
     "text": [
      "Enter the marks in percentage:-25\n",
      "Invalid Marks Exception: Marks Must be a 0 to 100\n"
     ]
    }
   ],
   "source": [
    "marks=int(input(\"Enter the marks in percentage:\"))\n",
    "try :\n",
    "    if marks>=90:\n",
    "        print(\"You got go marks\")\n",
    "    elif marks>100:\n",
    "            print(\"Invalid Marks Exception: Marks Must be a 0 to 100\")\n",
    "except:\n",
    "    if marks (-25):\n",
    "    print(\"Invalid Marks Exception: Marks Must be a 0 to 100\")"
   ]
  },
  {
   "cell_type": "code",
   "execution_count": null,
   "id": "2deb323e",
   "metadata": {},
   "outputs": [],
   "source": []
  }
 ],
 "metadata": {
  "kernelspec": {
   "display_name": "Python 3 (ipykernel)",
   "language": "python",
   "name": "python3"
  },
  "language_info": {
   "codemirror_mode": {
    "name": "ipython",
    "version": 3
   },
   "file_extension": ".py",
   "mimetype": "text/x-python",
   "name": "python",
   "nbconvert_exporter": "python",
   "pygments_lexer": "ipython3",
   "version": "3.11.7"
  }
 },
 "nbformat": 4,
 "nbformat_minor": 5
}
