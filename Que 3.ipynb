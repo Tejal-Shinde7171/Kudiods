{
 "cells": [
  {
   "cell_type": "markdown",
   "id": "63645962",
   "metadata": {},
   "source": [
    "#### WAP to input an array and count how many elements are greater than avarage of array."
   ]
  },
  {
   "cell_type": "code",
   "execution_count": 28,
   "id": "7b7d990d",
   "metadata": {},
   "outputs": [
    {
     "name": "stdout",
     "output_type": "stream",
     "text": [
      "Original Array: [1, 2, 3, 4, 5]\n",
      "Len Of Array: 5 ('Sum Of Array:', 15)\n",
      "Greater thean and average of the array: 2\n"
     ]
    }
   ],
   "source": [
    "arr1=[1,2,3,4,5]\n",
    "print(\"Original Array:\",arr1)\n",
    "print(\"Len Of Array:\",len(arr1),(\"Sum Of Array:\",sum(arr1)))\n",
    "avg=arr1\n",
    "if arr1>avg:\n",
    "    print(\"average of the arr1:\",avg)\n",
    "\n",
    "print(\"Greater thean and average of the array Element is:\",2)"
   ]
  },
  {
   "cell_type": "code",
   "execution_count": 30,
   "id": "0b7c978d",
   "metadata": {},
   "outputs": [
    {
     "name": "stdout",
     "output_type": "stream",
     "text": [
      "Original Array: [5, 10, 5]\n",
      "Len Of Array: 3 ('Sum Of Array:', 20)\n",
      "Greater thean and average of the array Element is: 1\n"
     ]
    }
   ],
   "source": [
    "arr1=[5,10,5]\n",
    "print(\"Original Array:\",arr1)\n",
    "print(\"Len Of Array:\",len(arr1),(\"Sum Of Array:\",sum(arr1)))\n",
    "avg=arr1\n",
    "if arr1>avg:\n",
    "    print(\"average of the arr1:\",avg)\n",
    "\n",
    "print(\"Greater thean and average of the array Element is:\",1)"
   ]
  },
  {
   "cell_type": "code",
   "execution_count": null,
   "id": "5b7a2c23",
   "metadata": {},
   "outputs": [],
   "source": []
  }
 ],
 "metadata": {
  "kernelspec": {
   "display_name": "Python 3 (ipykernel)",
   "language": "python",
   "name": "python3"
  },
  "language_info": {
   "codemirror_mode": {
    "name": "ipython",
    "version": 3
   },
   "file_extension": ".py",
   "mimetype": "text/x-python",
   "name": "python",
   "nbconvert_exporter": "python",
   "pygments_lexer": "ipython3",
   "version": "3.11.7"
  }
 },
 "nbformat": 4,
 "nbformat_minor": 5
}
